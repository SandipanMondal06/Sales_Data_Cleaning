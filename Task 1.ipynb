{
 "cells": [
  {
   "cell_type": "code",
   "execution_count": 2,
   "id": "b829bed3",
   "metadata": {},
   "outputs": [
    {
     "name": "stdout",
     "output_type": "stream",
     "text": [
      "Defaulting to user installation because normal site-packages is not writeable\n",
      "Collecting kagglehub\n",
      "  Downloading kagglehub-0.3.11-py3-none-any.whl (63 kB)\n",
      "\u001b[2K     \u001b[90m━━━━━━━━━━━━━━━━━━━━━━━━━━━━━━━━━━━━━━━━\u001b[0m \u001b[32m63.4/63.4 kB\u001b[0m \u001b[31m7.6 MB/s\u001b[0m eta \u001b[36m0:00:00\u001b[0m\n",
      "\u001b[?25hRequirement already satisfied: packaging in /opt/anaconda3/lib/python3.9/site-packages (from kagglehub) (21.3)\n",
      "Requirement already satisfied: pyyaml in /opt/anaconda3/lib/python3.9/site-packages (from kagglehub) (6.0)\n",
      "Requirement already satisfied: requests in /opt/anaconda3/lib/python3.9/site-packages (from kagglehub) (2.28.1)\n",
      "Requirement already satisfied: tqdm in /opt/anaconda3/lib/python3.9/site-packages (from kagglehub) (4.64.1)\n",
      "Requirement already satisfied: pyparsing!=3.0.5,>=2.0.2 in /opt/anaconda3/lib/python3.9/site-packages (from packaging->kagglehub) (3.0.9)\n",
      "Requirement already satisfied: certifi>=2017.4.17 in /opt/anaconda3/lib/python3.9/site-packages (from requests->kagglehub) (2022.9.14)\n",
      "Requirement already satisfied: idna<4,>=2.5 in /opt/anaconda3/lib/python3.9/site-packages (from requests->kagglehub) (3.3)\n",
      "Requirement already satisfied: urllib3<1.27,>=1.21.1 in /opt/anaconda3/lib/python3.9/site-packages (from requests->kagglehub) (1.26.11)\n",
      "Requirement already satisfied: charset-normalizer<3,>=2 in /opt/anaconda3/lib/python3.9/site-packages (from requests->kagglehub) (2.0.4)\n",
      "Installing collected packages: kagglehub\n",
      "Successfully installed kagglehub-0.3.11\n",
      "\u001b[33mWARNING: There was an error checking the latest version of pip.\u001b[0m\u001b[33m\n",
      "\u001b[0m"
     ]
    }
   ],
   "source": [
    "!pip install kagglehub"
   ]
  },
  {
   "cell_type": "code",
   "execution_count": 8,
   "id": "f9507501",
   "metadata": {},
   "outputs": [],
   "source": [
    "import numpy as np\n",
    "import pandas as pd\n",
    "import os"
   ]
  },
  {
   "cell_type": "markdown",
   "id": "09a998c7",
   "metadata": {},
   "source": [
    "# Sales Data Cleaning"
   ]
  },
  {
   "cell_type": "code",
   "execution_count": 3,
   "id": "3a6c934f",
   "metadata": {},
   "outputs": [
    {
     "name": "stdout",
     "output_type": "stream",
     "text": [
      "Downloading from https://www.kaggle.com/api/v1/datasets/download/kyanyoga/sample-sales-data?dataset_version_number=1...\n"
     ]
    },
    {
     "name": "stderr",
     "output_type": "stream",
     "text": [
      "100%|███████████████████████████████████████████████████████████████████████████████| 77.5k/77.5k [00:00<00:00, 162kB/s]"
     ]
    },
    {
     "name": "stdout",
     "output_type": "stream",
     "text": [
      "Extracting files...\n",
      "Path to dataset files: /home/24n0457/.cache/kagglehub/datasets/kyanyoga/sample-sales-data/versions/1\n"
     ]
    },
    {
     "name": "stderr",
     "output_type": "stream",
     "text": [
      "\n"
     ]
    }
   ],
   "source": [
    "import kagglehub\n",
    "\n",
    "path = kagglehub.dataset_download(\"kyanyoga/sample-sales-data\")\n",
    "\n",
    "print(\"Path to dataset files:\", path)"
   ]
  },
  {
   "cell_type": "code",
   "execution_count": 15,
   "id": "e6f5e55a",
   "metadata": {},
   "outputs": [],
   "source": [
    "path1 = path"
   ]
  },
  {
   "cell_type": "code",
   "execution_count": 16,
   "id": "10b104c2",
   "metadata": {},
   "outputs": [
    {
     "data": {
      "text/plain": [
       "'/home/24n0457/.cache/kagglehub/datasets/kyanyoga/sample-sales-data/versions/1'"
      ]
     },
     "execution_count": 16,
     "metadata": {},
     "output_type": "execute_result"
    }
   ],
   "source": [
    "path1"
   ]
  },
  {
   "cell_type": "code",
   "execution_count": 17,
   "id": "72b853a5",
   "metadata": {},
   "outputs": [
    {
     "name": "stdout",
     "output_type": "stream",
     "text": [
      "['sales_data_sample.csv']\n"
     ]
    }
   ],
   "source": [
    "print(os.listdir(path1))"
   ]
  },
  {
   "cell_type": "code",
   "execution_count": 20,
   "id": "143e8071",
   "metadata": {},
   "outputs": [],
   "source": [
    "file_path = os.path.join(path, 'sales_data_sample.csv')"
   ]
  },
  {
   "cell_type": "code",
   "execution_count": 21,
   "id": "05d39833",
   "metadata": {},
   "outputs": [
    {
     "data": {
      "text/plain": [
       "'/home/24n0457/.cache/kagglehub/datasets/kyanyoga/sample-sales-data/versions/1/sales_data_sample.csv'"
      ]
     },
     "execution_count": 21,
     "metadata": {},
     "output_type": "execute_result"
    }
   ],
   "source": [
    "file_path"
   ]
  },
  {
   "cell_type": "code",
   "execution_count": 39,
   "id": "f995557d",
   "metadata": {},
   "outputs": [],
   "source": [
    "df1 = pd.read_csv(file_path, encoding=\"latin-1\")"
   ]
  },
  {
   "cell_type": "code",
   "execution_count": 40,
   "id": "c9a4516c",
   "metadata": {},
   "outputs": [
    {
     "data": {
      "text/html": [
       "<div>\n",
       "<style scoped>\n",
       "    .dataframe tbody tr th:only-of-type {\n",
       "        vertical-align: middle;\n",
       "    }\n",
       "\n",
       "    .dataframe tbody tr th {\n",
       "        vertical-align: top;\n",
       "    }\n",
       "\n",
       "    .dataframe thead th {\n",
       "        text-align: right;\n",
       "    }\n",
       "</style>\n",
       "<table border=\"1\" class=\"dataframe\">\n",
       "  <thead>\n",
       "    <tr style=\"text-align: right;\">\n",
       "      <th></th>\n",
       "      <th>ORDERNUMBER</th>\n",
       "      <th>QUANTITYORDERED</th>\n",
       "      <th>PRICEEACH</th>\n",
       "      <th>ORDERLINENUMBER</th>\n",
       "      <th>SALES</th>\n",
       "      <th>ORDERDATE</th>\n",
       "      <th>STATUS</th>\n",
       "      <th>QTR_ID</th>\n",
       "      <th>MONTH_ID</th>\n",
       "      <th>YEAR_ID</th>\n",
       "      <th>...</th>\n",
       "      <th>ADDRESSLINE1</th>\n",
       "      <th>ADDRESSLINE2</th>\n",
       "      <th>CITY</th>\n",
       "      <th>STATE</th>\n",
       "      <th>POSTALCODE</th>\n",
       "      <th>COUNTRY</th>\n",
       "      <th>TERRITORY</th>\n",
       "      <th>CONTACTLASTNAME</th>\n",
       "      <th>CONTACTFIRSTNAME</th>\n",
       "      <th>DEALSIZE</th>\n",
       "    </tr>\n",
       "  </thead>\n",
       "  <tbody>\n",
       "    <tr>\n",
       "      <th>0</th>\n",
       "      <td>10107</td>\n",
       "      <td>30</td>\n",
       "      <td>95.70</td>\n",
       "      <td>2</td>\n",
       "      <td>2871.00</td>\n",
       "      <td>2/24/2003 0:00</td>\n",
       "      <td>Shipped</td>\n",
       "      <td>1</td>\n",
       "      <td>2</td>\n",
       "      <td>2003</td>\n",
       "      <td>...</td>\n",
       "      <td>897 Long Airport Avenue</td>\n",
       "      <td>NaN</td>\n",
       "      <td>NYC</td>\n",
       "      <td>NY</td>\n",
       "      <td>10022</td>\n",
       "      <td>USA</td>\n",
       "      <td>NaN</td>\n",
       "      <td>Yu</td>\n",
       "      <td>Kwai</td>\n",
       "      <td>Small</td>\n",
       "    </tr>\n",
       "    <tr>\n",
       "      <th>1</th>\n",
       "      <td>10121</td>\n",
       "      <td>34</td>\n",
       "      <td>81.35</td>\n",
       "      <td>5</td>\n",
       "      <td>2765.90</td>\n",
       "      <td>5/7/2003 0:00</td>\n",
       "      <td>Shipped</td>\n",
       "      <td>2</td>\n",
       "      <td>5</td>\n",
       "      <td>2003</td>\n",
       "      <td>...</td>\n",
       "      <td>59 rue de l'Abbaye</td>\n",
       "      <td>NaN</td>\n",
       "      <td>Reims</td>\n",
       "      <td>NaN</td>\n",
       "      <td>51100</td>\n",
       "      <td>France</td>\n",
       "      <td>EMEA</td>\n",
       "      <td>Henriot</td>\n",
       "      <td>Paul</td>\n",
       "      <td>Small</td>\n",
       "    </tr>\n",
       "    <tr>\n",
       "      <th>2</th>\n",
       "      <td>10134</td>\n",
       "      <td>41</td>\n",
       "      <td>94.74</td>\n",
       "      <td>2</td>\n",
       "      <td>3884.34</td>\n",
       "      <td>7/1/2003 0:00</td>\n",
       "      <td>Shipped</td>\n",
       "      <td>3</td>\n",
       "      <td>7</td>\n",
       "      <td>2003</td>\n",
       "      <td>...</td>\n",
       "      <td>27 rue du Colonel Pierre Avia</td>\n",
       "      <td>NaN</td>\n",
       "      <td>Paris</td>\n",
       "      <td>NaN</td>\n",
       "      <td>75508</td>\n",
       "      <td>France</td>\n",
       "      <td>EMEA</td>\n",
       "      <td>Da Cunha</td>\n",
       "      <td>Daniel</td>\n",
       "      <td>Medium</td>\n",
       "    </tr>\n",
       "    <tr>\n",
       "      <th>3</th>\n",
       "      <td>10145</td>\n",
       "      <td>45</td>\n",
       "      <td>83.26</td>\n",
       "      <td>6</td>\n",
       "      <td>3746.70</td>\n",
       "      <td>8/25/2003 0:00</td>\n",
       "      <td>Shipped</td>\n",
       "      <td>3</td>\n",
       "      <td>8</td>\n",
       "      <td>2003</td>\n",
       "      <td>...</td>\n",
       "      <td>78934 Hillside Dr.</td>\n",
       "      <td>NaN</td>\n",
       "      <td>Pasadena</td>\n",
       "      <td>CA</td>\n",
       "      <td>90003</td>\n",
       "      <td>USA</td>\n",
       "      <td>NaN</td>\n",
       "      <td>Young</td>\n",
       "      <td>Julie</td>\n",
       "      <td>Medium</td>\n",
       "    </tr>\n",
       "    <tr>\n",
       "      <th>4</th>\n",
       "      <td>10159</td>\n",
       "      <td>49</td>\n",
       "      <td>100.00</td>\n",
       "      <td>14</td>\n",
       "      <td>5205.27</td>\n",
       "      <td>10/10/2003 0:00</td>\n",
       "      <td>Shipped</td>\n",
       "      <td>4</td>\n",
       "      <td>10</td>\n",
       "      <td>2003</td>\n",
       "      <td>...</td>\n",
       "      <td>7734 Strong St.</td>\n",
       "      <td>NaN</td>\n",
       "      <td>San Francisco</td>\n",
       "      <td>CA</td>\n",
       "      <td>NaN</td>\n",
       "      <td>USA</td>\n",
       "      <td>NaN</td>\n",
       "      <td>Brown</td>\n",
       "      <td>Julie</td>\n",
       "      <td>Medium</td>\n",
       "    </tr>\n",
       "  </tbody>\n",
       "</table>\n",
       "<p>5 rows × 25 columns</p>\n",
       "</div>"
      ],
      "text/plain": [
       "   ORDERNUMBER  QUANTITYORDERED  PRICEEACH  ORDERLINENUMBER    SALES  \\\n",
       "0        10107               30      95.70                2  2871.00   \n",
       "1        10121               34      81.35                5  2765.90   \n",
       "2        10134               41      94.74                2  3884.34   \n",
       "3        10145               45      83.26                6  3746.70   \n",
       "4        10159               49     100.00               14  5205.27   \n",
       "\n",
       "         ORDERDATE   STATUS  QTR_ID  MONTH_ID  YEAR_ID  ...  \\\n",
       "0   2/24/2003 0:00  Shipped       1         2     2003  ...   \n",
       "1    5/7/2003 0:00  Shipped       2         5     2003  ...   \n",
       "2    7/1/2003 0:00  Shipped       3         7     2003  ...   \n",
       "3   8/25/2003 0:00  Shipped       3         8     2003  ...   \n",
       "4  10/10/2003 0:00  Shipped       4        10     2003  ...   \n",
       "\n",
       "                    ADDRESSLINE1  ADDRESSLINE2           CITY STATE  \\\n",
       "0        897 Long Airport Avenue           NaN            NYC    NY   \n",
       "1             59 rue de l'Abbaye           NaN          Reims   NaN   \n",
       "2  27 rue du Colonel Pierre Avia           NaN          Paris   NaN   \n",
       "3             78934 Hillside Dr.           NaN       Pasadena    CA   \n",
       "4                7734 Strong St.           NaN  San Francisco    CA   \n",
       "\n",
       "  POSTALCODE COUNTRY TERRITORY CONTACTLASTNAME CONTACTFIRSTNAME DEALSIZE  \n",
       "0      10022     USA       NaN              Yu             Kwai    Small  \n",
       "1      51100  France      EMEA         Henriot             Paul    Small  \n",
       "2      75508  France      EMEA        Da Cunha           Daniel   Medium  \n",
       "3      90003     USA       NaN           Young            Julie   Medium  \n",
       "4        NaN     USA       NaN           Brown            Julie   Medium  \n",
       "\n",
       "[5 rows x 25 columns]"
      ]
     },
     "execution_count": 40,
     "metadata": {},
     "output_type": "execute_result"
    }
   ],
   "source": [
    "df1.head()"
   ]
  },
  {
   "cell_type": "code",
   "execution_count": 41,
   "id": "982a9a90",
   "metadata": {},
   "outputs": [
    {
     "data": {
      "text/plain": [
       "(2823, 25)"
      ]
     },
     "execution_count": 41,
     "metadata": {},
     "output_type": "execute_result"
    }
   ],
   "source": [
    "df1.shape"
   ]
  },
  {
   "cell_type": "code",
   "execution_count": 42,
   "id": "89bbbe95",
   "metadata": {},
   "outputs": [
    {
     "data": {
      "text/plain": [
       "ORDERNUMBER            0\n",
       "QUANTITYORDERED        0\n",
       "PRICEEACH              0\n",
       "ORDERLINENUMBER        0\n",
       "SALES                  0\n",
       "ORDERDATE              0\n",
       "STATUS                 0\n",
       "QTR_ID                 0\n",
       "MONTH_ID               0\n",
       "YEAR_ID                0\n",
       "PRODUCTLINE            0\n",
       "MSRP                   0\n",
       "PRODUCTCODE            0\n",
       "CUSTOMERNAME           0\n",
       "PHONE                  0\n",
       "ADDRESSLINE1           0\n",
       "ADDRESSLINE2        2521\n",
       "CITY                   0\n",
       "STATE               1486\n",
       "POSTALCODE            76\n",
       "COUNTRY                0\n",
       "TERRITORY           1074\n",
       "CONTACTLASTNAME        0\n",
       "CONTACTFIRSTNAME       0\n",
       "DEALSIZE               0\n",
       "dtype: int64"
      ]
     },
     "execution_count": 42,
     "metadata": {},
     "output_type": "execute_result"
    }
   ],
   "source": [
    "df1.isnull().sum()"
   ]
  },
  {
   "cell_type": "markdown",
   "id": "0f99649e",
   "metadata": {},
   "source": [
    "### Here in this dataset Out of 2823 data 2521 data has addressline 2 as null thus dropping the column along with Territory and state\n",
    "\n",
    "### But in Postal code only 76 values are missing thus we will only remove those rows instead of fully deleting the column"
   ]
  },
  {
   "cell_type": "code",
   "execution_count": 43,
   "id": "a4536c06",
   "metadata": {},
   "outputs": [],
   "source": [
    "df1.drop(['STATE','ADDRESSLINE2','TERRITORY'],axis = 1,inplace=True)"
   ]
  },
  {
   "cell_type": "code",
   "execution_count": 44,
   "id": "3404ffdf",
   "metadata": {},
   "outputs": [
    {
     "data": {
      "text/plain": [
       "(2823, 22)"
      ]
     },
     "execution_count": 44,
     "metadata": {},
     "output_type": "execute_result"
    }
   ],
   "source": [
    "df1.shape"
   ]
  },
  {
   "cell_type": "code",
   "execution_count": 45,
   "id": "7db2f983",
   "metadata": {},
   "outputs": [],
   "source": [
    "df1.dropna(inplace=True)"
   ]
  },
  {
   "cell_type": "code",
   "execution_count": 46,
   "id": "d92adf8f",
   "metadata": {},
   "outputs": [
    {
     "data": {
      "text/plain": [
       "(2747, 22)"
      ]
     },
     "execution_count": 46,
     "metadata": {},
     "output_type": "execute_result"
    }
   ],
   "source": [
    "df1.shape"
   ]
  },
  {
   "cell_type": "code",
   "execution_count": 47,
   "id": "82cf576b",
   "metadata": {},
   "outputs": [
    {
     "data": {
      "text/plain": [
       "ORDERNUMBER         0\n",
       "QUANTITYORDERED     0\n",
       "PRICEEACH           0\n",
       "ORDERLINENUMBER     0\n",
       "SALES               0\n",
       "ORDERDATE           0\n",
       "STATUS              0\n",
       "QTR_ID              0\n",
       "MONTH_ID            0\n",
       "YEAR_ID             0\n",
       "PRODUCTLINE         0\n",
       "MSRP                0\n",
       "PRODUCTCODE         0\n",
       "CUSTOMERNAME        0\n",
       "PHONE               0\n",
       "ADDRESSLINE1        0\n",
       "CITY                0\n",
       "POSTALCODE          0\n",
       "COUNTRY             0\n",
       "CONTACTLASTNAME     0\n",
       "CONTACTFIRSTNAME    0\n",
       "DEALSIZE            0\n",
       "dtype: int64"
      ]
     },
     "execution_count": 47,
     "metadata": {},
     "output_type": "execute_result"
    }
   ],
   "source": [
    "df1.isnull().sum()"
   ]
  },
  {
   "cell_type": "markdown",
   "id": "cd10e3fa",
   "metadata": {},
   "source": [
    "### Now the data is fully null value free. Thus we have handled the null values"
   ]
  },
  {
   "cell_type": "code",
   "execution_count": 49,
   "id": "40a565e9",
   "metadata": {},
   "outputs": [
    {
     "data": {
      "text/plain": [
       "0"
      ]
     },
     "execution_count": 49,
     "metadata": {},
     "output_type": "execute_result"
    }
   ],
   "source": [
    "df1.duplicated().sum()"
   ]
  },
  {
   "cell_type": "markdown",
   "id": "ef54b27d",
   "metadata": {},
   "source": [
    "### Dataset has no duplicate values"
   ]
  },
  {
   "cell_type": "markdown",
   "id": "f135ca5e",
   "metadata": {},
   "source": [
    "# Now finding the columns with string values then standardising them like making them consistent like in lowercase"
   ]
  },
  {
   "cell_type": "code",
   "execution_count": 53,
   "id": "cb05786e",
   "metadata": {},
   "outputs": [
    {
     "name": "stdout",
     "output_type": "stream",
     "text": [
      "Columns with string values: ['ORDERDATE', 'STATUS', 'PRODUCTLINE', 'PRODUCTCODE', 'CUSTOMERNAME', 'PHONE', 'ADDRESSLINE1', 'CITY', 'POSTALCODE', 'COUNTRY', 'CONTACTLASTNAME', 'CONTACTFIRSTNAME', 'DEALSIZE']\n"
     ]
    }
   ],
   "source": [
    "string_columns = df1.select_dtypes(include=['object', 'string']).columns\n",
    "print(\"Columns with string values:\", list(string_columns))"
   ]
  },
  {
   "cell_type": "code",
   "execution_count": 54,
   "id": "4a3bae22",
   "metadata": {},
   "outputs": [],
   "source": [
    "df1[string_columns] = df1[string_columns].apply(lambda col: col.str.strip().str.lower())"
   ]
  },
  {
   "cell_type": "code",
   "execution_count": 55,
   "id": "4d919ae1",
   "metadata": {},
   "outputs": [
    {
     "data": {
      "text/html": [
       "<div>\n",
       "<style scoped>\n",
       "    .dataframe tbody tr th:only-of-type {\n",
       "        vertical-align: middle;\n",
       "    }\n",
       "\n",
       "    .dataframe tbody tr th {\n",
       "        vertical-align: top;\n",
       "    }\n",
       "\n",
       "    .dataframe thead th {\n",
       "        text-align: right;\n",
       "    }\n",
       "</style>\n",
       "<table border=\"1\" class=\"dataframe\">\n",
       "  <thead>\n",
       "    <tr style=\"text-align: right;\">\n",
       "      <th></th>\n",
       "      <th>ORDERNUMBER</th>\n",
       "      <th>QUANTITYORDERED</th>\n",
       "      <th>PRICEEACH</th>\n",
       "      <th>ORDERLINENUMBER</th>\n",
       "      <th>SALES</th>\n",
       "      <th>ORDERDATE</th>\n",
       "      <th>STATUS</th>\n",
       "      <th>QTR_ID</th>\n",
       "      <th>MONTH_ID</th>\n",
       "      <th>YEAR_ID</th>\n",
       "      <th>...</th>\n",
       "      <th>PRODUCTCODE</th>\n",
       "      <th>CUSTOMERNAME</th>\n",
       "      <th>PHONE</th>\n",
       "      <th>ADDRESSLINE1</th>\n",
       "      <th>CITY</th>\n",
       "      <th>POSTALCODE</th>\n",
       "      <th>COUNTRY</th>\n",
       "      <th>CONTACTLASTNAME</th>\n",
       "      <th>CONTACTFIRSTNAME</th>\n",
       "      <th>DEALSIZE</th>\n",
       "    </tr>\n",
       "  </thead>\n",
       "  <tbody>\n",
       "    <tr>\n",
       "      <th>0</th>\n",
       "      <td>10107</td>\n",
       "      <td>30</td>\n",
       "      <td>95.70</td>\n",
       "      <td>2</td>\n",
       "      <td>2871.00</td>\n",
       "      <td>2/24/2003 0:00</td>\n",
       "      <td>shipped</td>\n",
       "      <td>1</td>\n",
       "      <td>2</td>\n",
       "      <td>2003</td>\n",
       "      <td>...</td>\n",
       "      <td>s10_1678</td>\n",
       "      <td>land of toys inc.</td>\n",
       "      <td>2125557818</td>\n",
       "      <td>897 long airport avenue</td>\n",
       "      <td>nyc</td>\n",
       "      <td>10022</td>\n",
       "      <td>usa</td>\n",
       "      <td>yu</td>\n",
       "      <td>kwai</td>\n",
       "      <td>small</td>\n",
       "    </tr>\n",
       "    <tr>\n",
       "      <th>1</th>\n",
       "      <td>10121</td>\n",
       "      <td>34</td>\n",
       "      <td>81.35</td>\n",
       "      <td>5</td>\n",
       "      <td>2765.90</td>\n",
       "      <td>5/7/2003 0:00</td>\n",
       "      <td>shipped</td>\n",
       "      <td>2</td>\n",
       "      <td>5</td>\n",
       "      <td>2003</td>\n",
       "      <td>...</td>\n",
       "      <td>s10_1678</td>\n",
       "      <td>reims collectables</td>\n",
       "      <td>26.47.1555</td>\n",
       "      <td>59 rue de l'abbaye</td>\n",
       "      <td>reims</td>\n",
       "      <td>51100</td>\n",
       "      <td>france</td>\n",
       "      <td>henriot</td>\n",
       "      <td>paul</td>\n",
       "      <td>small</td>\n",
       "    </tr>\n",
       "    <tr>\n",
       "      <th>2</th>\n",
       "      <td>10134</td>\n",
       "      <td>41</td>\n",
       "      <td>94.74</td>\n",
       "      <td>2</td>\n",
       "      <td>3884.34</td>\n",
       "      <td>7/1/2003 0:00</td>\n",
       "      <td>shipped</td>\n",
       "      <td>3</td>\n",
       "      <td>7</td>\n",
       "      <td>2003</td>\n",
       "      <td>...</td>\n",
       "      <td>s10_1678</td>\n",
       "      <td>lyon souveniers</td>\n",
       "      <td>+33 1 46 62 7555</td>\n",
       "      <td>27 rue du colonel pierre avia</td>\n",
       "      <td>paris</td>\n",
       "      <td>75508</td>\n",
       "      <td>france</td>\n",
       "      <td>da cunha</td>\n",
       "      <td>daniel</td>\n",
       "      <td>medium</td>\n",
       "    </tr>\n",
       "    <tr>\n",
       "      <th>3</th>\n",
       "      <td>10145</td>\n",
       "      <td>45</td>\n",
       "      <td>83.26</td>\n",
       "      <td>6</td>\n",
       "      <td>3746.70</td>\n",
       "      <td>8/25/2003 0:00</td>\n",
       "      <td>shipped</td>\n",
       "      <td>3</td>\n",
       "      <td>8</td>\n",
       "      <td>2003</td>\n",
       "      <td>...</td>\n",
       "      <td>s10_1678</td>\n",
       "      <td>toys4grownups.com</td>\n",
       "      <td>6265557265</td>\n",
       "      <td>78934 hillside dr.</td>\n",
       "      <td>pasadena</td>\n",
       "      <td>90003</td>\n",
       "      <td>usa</td>\n",
       "      <td>young</td>\n",
       "      <td>julie</td>\n",
       "      <td>medium</td>\n",
       "    </tr>\n",
       "    <tr>\n",
       "      <th>5</th>\n",
       "      <td>10168</td>\n",
       "      <td>36</td>\n",
       "      <td>96.66</td>\n",
       "      <td>1</td>\n",
       "      <td>3479.76</td>\n",
       "      <td>10/28/2003 0:00</td>\n",
       "      <td>shipped</td>\n",
       "      <td>4</td>\n",
       "      <td>10</td>\n",
       "      <td>2003</td>\n",
       "      <td>...</td>\n",
       "      <td>s10_1678</td>\n",
       "      <td>technics stores inc.</td>\n",
       "      <td>6505556809</td>\n",
       "      <td>9408 furth circle</td>\n",
       "      <td>burlingame</td>\n",
       "      <td>94217</td>\n",
       "      <td>usa</td>\n",
       "      <td>hirano</td>\n",
       "      <td>juri</td>\n",
       "      <td>medium</td>\n",
       "    </tr>\n",
       "    <tr>\n",
       "      <th>...</th>\n",
       "      <td>...</td>\n",
       "      <td>...</td>\n",
       "      <td>...</td>\n",
       "      <td>...</td>\n",
       "      <td>...</td>\n",
       "      <td>...</td>\n",
       "      <td>...</td>\n",
       "      <td>...</td>\n",
       "      <td>...</td>\n",
       "      <td>...</td>\n",
       "      <td>...</td>\n",
       "      <td>...</td>\n",
       "      <td>...</td>\n",
       "      <td>...</td>\n",
       "      <td>...</td>\n",
       "      <td>...</td>\n",
       "      <td>...</td>\n",
       "      <td>...</td>\n",
       "      <td>...</td>\n",
       "      <td>...</td>\n",
       "      <td>...</td>\n",
       "    </tr>\n",
       "    <tr>\n",
       "      <th>2818</th>\n",
       "      <td>10350</td>\n",
       "      <td>20</td>\n",
       "      <td>100.00</td>\n",
       "      <td>15</td>\n",
       "      <td>2244.40</td>\n",
       "      <td>12/2/2004 0:00</td>\n",
       "      <td>shipped</td>\n",
       "      <td>4</td>\n",
       "      <td>12</td>\n",
       "      <td>2004</td>\n",
       "      <td>...</td>\n",
       "      <td>s72_3212</td>\n",
       "      <td>euro shopping channel</td>\n",
       "      <td>(91) 555 94 44</td>\n",
       "      <td>c/ moralzarzal, 86</td>\n",
       "      <td>madrid</td>\n",
       "      <td>28034</td>\n",
       "      <td>spain</td>\n",
       "      <td>freyre</td>\n",
       "      <td>diego</td>\n",
       "      <td>small</td>\n",
       "    </tr>\n",
       "    <tr>\n",
       "      <th>2819</th>\n",
       "      <td>10373</td>\n",
       "      <td>29</td>\n",
       "      <td>100.00</td>\n",
       "      <td>1</td>\n",
       "      <td>3978.51</td>\n",
       "      <td>1/31/2005 0:00</td>\n",
       "      <td>shipped</td>\n",
       "      <td>1</td>\n",
       "      <td>1</td>\n",
       "      <td>2005</td>\n",
       "      <td>...</td>\n",
       "      <td>s72_3212</td>\n",
       "      <td>oulu toy supplies, inc.</td>\n",
       "      <td>981-443655</td>\n",
       "      <td>torikatu 38</td>\n",
       "      <td>oulu</td>\n",
       "      <td>90110</td>\n",
       "      <td>finland</td>\n",
       "      <td>koskitalo</td>\n",
       "      <td>pirkko</td>\n",
       "      <td>medium</td>\n",
       "    </tr>\n",
       "    <tr>\n",
       "      <th>2820</th>\n",
       "      <td>10386</td>\n",
       "      <td>43</td>\n",
       "      <td>100.00</td>\n",
       "      <td>4</td>\n",
       "      <td>5417.57</td>\n",
       "      <td>3/1/2005 0:00</td>\n",
       "      <td>resolved</td>\n",
       "      <td>1</td>\n",
       "      <td>3</td>\n",
       "      <td>2005</td>\n",
       "      <td>...</td>\n",
       "      <td>s72_3212</td>\n",
       "      <td>euro shopping channel</td>\n",
       "      <td>(91) 555 94 44</td>\n",
       "      <td>c/ moralzarzal, 86</td>\n",
       "      <td>madrid</td>\n",
       "      <td>28034</td>\n",
       "      <td>spain</td>\n",
       "      <td>freyre</td>\n",
       "      <td>diego</td>\n",
       "      <td>medium</td>\n",
       "    </tr>\n",
       "    <tr>\n",
       "      <th>2821</th>\n",
       "      <td>10397</td>\n",
       "      <td>34</td>\n",
       "      <td>62.24</td>\n",
       "      <td>1</td>\n",
       "      <td>2116.16</td>\n",
       "      <td>3/28/2005 0:00</td>\n",
       "      <td>shipped</td>\n",
       "      <td>1</td>\n",
       "      <td>3</td>\n",
       "      <td>2005</td>\n",
       "      <td>...</td>\n",
       "      <td>s72_3212</td>\n",
       "      <td>alpha cognac</td>\n",
       "      <td>61.77.6555</td>\n",
       "      <td>1 rue alsace-lorraine</td>\n",
       "      <td>toulouse</td>\n",
       "      <td>31000</td>\n",
       "      <td>france</td>\n",
       "      <td>roulet</td>\n",
       "      <td>annette</td>\n",
       "      <td>small</td>\n",
       "    </tr>\n",
       "    <tr>\n",
       "      <th>2822</th>\n",
       "      <td>10414</td>\n",
       "      <td>47</td>\n",
       "      <td>65.52</td>\n",
       "      <td>9</td>\n",
       "      <td>3079.44</td>\n",
       "      <td>5/6/2005 0:00</td>\n",
       "      <td>on hold</td>\n",
       "      <td>2</td>\n",
       "      <td>5</td>\n",
       "      <td>2005</td>\n",
       "      <td>...</td>\n",
       "      <td>s72_3212</td>\n",
       "      <td>gifts4allages.com</td>\n",
       "      <td>6175559555</td>\n",
       "      <td>8616 spinnaker dr.</td>\n",
       "      <td>boston</td>\n",
       "      <td>51003</td>\n",
       "      <td>usa</td>\n",
       "      <td>yoshido</td>\n",
       "      <td>juri</td>\n",
       "      <td>medium</td>\n",
       "    </tr>\n",
       "  </tbody>\n",
       "</table>\n",
       "<p>2747 rows × 22 columns</p>\n",
       "</div>"
      ],
      "text/plain": [
       "      ORDERNUMBER  QUANTITYORDERED  PRICEEACH  ORDERLINENUMBER    SALES  \\\n",
       "0           10107               30      95.70                2  2871.00   \n",
       "1           10121               34      81.35                5  2765.90   \n",
       "2           10134               41      94.74                2  3884.34   \n",
       "3           10145               45      83.26                6  3746.70   \n",
       "5           10168               36      96.66                1  3479.76   \n",
       "...           ...              ...        ...              ...      ...   \n",
       "2818        10350               20     100.00               15  2244.40   \n",
       "2819        10373               29     100.00                1  3978.51   \n",
       "2820        10386               43     100.00                4  5417.57   \n",
       "2821        10397               34      62.24                1  2116.16   \n",
       "2822        10414               47      65.52                9  3079.44   \n",
       "\n",
       "            ORDERDATE    STATUS  QTR_ID  MONTH_ID  YEAR_ID  ... PRODUCTCODE  \\\n",
       "0      2/24/2003 0:00   shipped       1         2     2003  ...    s10_1678   \n",
       "1       5/7/2003 0:00   shipped       2         5     2003  ...    s10_1678   \n",
       "2       7/1/2003 0:00   shipped       3         7     2003  ...    s10_1678   \n",
       "3      8/25/2003 0:00   shipped       3         8     2003  ...    s10_1678   \n",
       "5     10/28/2003 0:00   shipped       4        10     2003  ...    s10_1678   \n",
       "...               ...       ...     ...       ...      ...  ...         ...   \n",
       "2818   12/2/2004 0:00   shipped       4        12     2004  ...    s72_3212   \n",
       "2819   1/31/2005 0:00   shipped       1         1     2005  ...    s72_3212   \n",
       "2820    3/1/2005 0:00  resolved       1         3     2005  ...    s72_3212   \n",
       "2821   3/28/2005 0:00   shipped       1         3     2005  ...    s72_3212   \n",
       "2822    5/6/2005 0:00   on hold       2         5     2005  ...    s72_3212   \n",
       "\n",
       "                 CUSTOMERNAME             PHONE  \\\n",
       "0           land of toys inc.        2125557818   \n",
       "1          reims collectables        26.47.1555   \n",
       "2             lyon souveniers  +33 1 46 62 7555   \n",
       "3           toys4grownups.com        6265557265   \n",
       "5        technics stores inc.        6505556809   \n",
       "...                       ...               ...   \n",
       "2818    euro shopping channel    (91) 555 94 44   \n",
       "2819  oulu toy supplies, inc.        981-443655   \n",
       "2820    euro shopping channel    (91) 555 94 44   \n",
       "2821             alpha cognac        61.77.6555   \n",
       "2822        gifts4allages.com        6175559555   \n",
       "\n",
       "                       ADDRESSLINE1        CITY POSTALCODE  COUNTRY  \\\n",
       "0           897 long airport avenue         nyc      10022      usa   \n",
       "1                59 rue de l'abbaye       reims      51100   france   \n",
       "2     27 rue du colonel pierre avia       paris      75508   france   \n",
       "3                78934 hillside dr.    pasadena      90003      usa   \n",
       "5                 9408 furth circle  burlingame      94217      usa   \n",
       "...                             ...         ...        ...      ...   \n",
       "2818             c/ moralzarzal, 86      madrid      28034    spain   \n",
       "2819                    torikatu 38        oulu      90110  finland   \n",
       "2820             c/ moralzarzal, 86      madrid      28034    spain   \n",
       "2821          1 rue alsace-lorraine    toulouse      31000   france   \n",
       "2822             8616 spinnaker dr.      boston      51003      usa   \n",
       "\n",
       "     CONTACTLASTNAME CONTACTFIRSTNAME DEALSIZE  \n",
       "0                 yu             kwai    small  \n",
       "1            henriot             paul    small  \n",
       "2           da cunha           daniel   medium  \n",
       "3              young            julie   medium  \n",
       "5             hirano             juri   medium  \n",
       "...              ...              ...      ...  \n",
       "2818          freyre            diego    small  \n",
       "2819       koskitalo           pirkko   medium  \n",
       "2820          freyre            diego   medium  \n",
       "2821          roulet          annette    small  \n",
       "2822         yoshido             juri   medium  \n",
       "\n",
       "[2747 rows x 22 columns]"
      ]
     },
     "execution_count": 55,
     "metadata": {},
     "output_type": "execute_result"
    }
   ],
   "source": [
    "df1"
   ]
  },
  {
   "cell_type": "code",
   "execution_count": 56,
   "id": "17c86178",
   "metadata": {},
   "outputs": [],
   "source": [
    "numeric_cols = df1.select_dtypes(include=['int','float']).columns"
   ]
  },
  {
   "cell_type": "code",
   "execution_count": 57,
   "id": "6dfff08b",
   "metadata": {},
   "outputs": [
    {
     "data": {
      "text/plain": [
       "Index(['ORDERNUMBER', 'QUANTITYORDERED', 'PRICEEACH', 'ORDERLINENUMBER',\n",
       "       'SALES', 'QTR_ID', 'MONTH_ID', 'YEAR_ID', 'MSRP'],\n",
       "      dtype='object')"
      ]
     },
     "execution_count": 57,
     "metadata": {},
     "output_type": "execute_result"
    }
   ],
   "source": [
    "numeric_cols"
   ]
  },
  {
   "cell_type": "code",
   "execution_count": 59,
   "id": "c0af042e",
   "metadata": {},
   "outputs": [
    {
     "data": {
      "text/plain": [
       "22"
      ]
     },
     "execution_count": 59,
     "metadata": {},
     "output_type": "execute_result"
    }
   ],
   "source": [
    "len(numeric_cols)+ len(string_columns)"
   ]
  },
  {
   "cell_type": "markdown",
   "id": "5559472a",
   "metadata": {},
   "source": [
    "#### We have removed all the trailing spaces in string dtype columns"
   ]
  },
  {
   "cell_type": "markdown",
   "id": "19d83eb6",
   "metadata": {},
   "source": [
    "## Converting \"ORDERDATE\" column to datetime "
   ]
  },
  {
   "cell_type": "code",
   "execution_count": 69,
   "id": "9b066868",
   "metadata": {},
   "outputs": [],
   "source": [
    "df1['ORDERDATE'] = pd.to_datetime(df1['ORDERDATE'])"
   ]
  },
  {
   "cell_type": "code",
   "execution_count": 70,
   "id": "11b58ecc",
   "metadata": {},
   "outputs": [
    {
     "data": {
      "text/html": [
       "<div>\n",
       "<style scoped>\n",
       "    .dataframe tbody tr th:only-of-type {\n",
       "        vertical-align: middle;\n",
       "    }\n",
       "\n",
       "    .dataframe tbody tr th {\n",
       "        vertical-align: top;\n",
       "    }\n",
       "\n",
       "    .dataframe thead th {\n",
       "        text-align: right;\n",
       "    }\n",
       "</style>\n",
       "<table border=\"1\" class=\"dataframe\">\n",
       "  <thead>\n",
       "    <tr style=\"text-align: right;\">\n",
       "      <th></th>\n",
       "      <th>ORDERNUMBER</th>\n",
       "      <th>QUANTITYORDERED</th>\n",
       "      <th>PRICEEACH</th>\n",
       "      <th>ORDERLINENUMBER</th>\n",
       "      <th>SALES</th>\n",
       "      <th>ORDERDATE</th>\n",
       "      <th>STATUS</th>\n",
       "      <th>QTR_ID</th>\n",
       "      <th>MONTH_ID</th>\n",
       "      <th>YEAR_ID</th>\n",
       "      <th>...</th>\n",
       "      <th>PRODUCTCODE</th>\n",
       "      <th>CUSTOMERNAME</th>\n",
       "      <th>PHONE</th>\n",
       "      <th>ADDRESSLINE1</th>\n",
       "      <th>CITY</th>\n",
       "      <th>POSTALCODE</th>\n",
       "      <th>COUNTRY</th>\n",
       "      <th>CONTACTLASTNAME</th>\n",
       "      <th>CONTACTFIRSTNAME</th>\n",
       "      <th>DEALSIZE</th>\n",
       "    </tr>\n",
       "  </thead>\n",
       "  <tbody>\n",
       "    <tr>\n",
       "      <th>0</th>\n",
       "      <td>10107</td>\n",
       "      <td>30</td>\n",
       "      <td>95.70</td>\n",
       "      <td>2</td>\n",
       "      <td>2871.00</td>\n",
       "      <td>2003-02-24</td>\n",
       "      <td>shipped</td>\n",
       "      <td>1</td>\n",
       "      <td>2</td>\n",
       "      <td>2003</td>\n",
       "      <td>...</td>\n",
       "      <td>s10_1678</td>\n",
       "      <td>land of toys inc.</td>\n",
       "      <td>2125557818</td>\n",
       "      <td>897 long airport avenue</td>\n",
       "      <td>nyc</td>\n",
       "      <td>10022</td>\n",
       "      <td>usa</td>\n",
       "      <td>yu</td>\n",
       "      <td>kwai</td>\n",
       "      <td>small</td>\n",
       "    </tr>\n",
       "    <tr>\n",
       "      <th>1</th>\n",
       "      <td>10121</td>\n",
       "      <td>34</td>\n",
       "      <td>81.35</td>\n",
       "      <td>5</td>\n",
       "      <td>2765.90</td>\n",
       "      <td>2003-05-07</td>\n",
       "      <td>shipped</td>\n",
       "      <td>2</td>\n",
       "      <td>5</td>\n",
       "      <td>2003</td>\n",
       "      <td>...</td>\n",
       "      <td>s10_1678</td>\n",
       "      <td>reims collectables</td>\n",
       "      <td>26.47.1555</td>\n",
       "      <td>59 rue de l'abbaye</td>\n",
       "      <td>reims</td>\n",
       "      <td>51100</td>\n",
       "      <td>france</td>\n",
       "      <td>henriot</td>\n",
       "      <td>paul</td>\n",
       "      <td>small</td>\n",
       "    </tr>\n",
       "    <tr>\n",
       "      <th>2</th>\n",
       "      <td>10134</td>\n",
       "      <td>41</td>\n",
       "      <td>94.74</td>\n",
       "      <td>2</td>\n",
       "      <td>3884.34</td>\n",
       "      <td>2003-07-01</td>\n",
       "      <td>shipped</td>\n",
       "      <td>3</td>\n",
       "      <td>7</td>\n",
       "      <td>2003</td>\n",
       "      <td>...</td>\n",
       "      <td>s10_1678</td>\n",
       "      <td>lyon souveniers</td>\n",
       "      <td>+33 1 46 62 7555</td>\n",
       "      <td>27 rue du colonel pierre avia</td>\n",
       "      <td>paris</td>\n",
       "      <td>75508</td>\n",
       "      <td>france</td>\n",
       "      <td>da cunha</td>\n",
       "      <td>daniel</td>\n",
       "      <td>medium</td>\n",
       "    </tr>\n",
       "    <tr>\n",
       "      <th>3</th>\n",
       "      <td>10145</td>\n",
       "      <td>45</td>\n",
       "      <td>83.26</td>\n",
       "      <td>6</td>\n",
       "      <td>3746.70</td>\n",
       "      <td>2003-08-25</td>\n",
       "      <td>shipped</td>\n",
       "      <td>3</td>\n",
       "      <td>8</td>\n",
       "      <td>2003</td>\n",
       "      <td>...</td>\n",
       "      <td>s10_1678</td>\n",
       "      <td>toys4grownups.com</td>\n",
       "      <td>6265557265</td>\n",
       "      <td>78934 hillside dr.</td>\n",
       "      <td>pasadena</td>\n",
       "      <td>90003</td>\n",
       "      <td>usa</td>\n",
       "      <td>young</td>\n",
       "      <td>julie</td>\n",
       "      <td>medium</td>\n",
       "    </tr>\n",
       "    <tr>\n",
       "      <th>5</th>\n",
       "      <td>10168</td>\n",
       "      <td>36</td>\n",
       "      <td>96.66</td>\n",
       "      <td>1</td>\n",
       "      <td>3479.76</td>\n",
       "      <td>2003-10-28</td>\n",
       "      <td>shipped</td>\n",
       "      <td>4</td>\n",
       "      <td>10</td>\n",
       "      <td>2003</td>\n",
       "      <td>...</td>\n",
       "      <td>s10_1678</td>\n",
       "      <td>technics stores inc.</td>\n",
       "      <td>6505556809</td>\n",
       "      <td>9408 furth circle</td>\n",
       "      <td>burlingame</td>\n",
       "      <td>94217</td>\n",
       "      <td>usa</td>\n",
       "      <td>hirano</td>\n",
       "      <td>juri</td>\n",
       "      <td>medium</td>\n",
       "    </tr>\n",
       "    <tr>\n",
       "      <th>...</th>\n",
       "      <td>...</td>\n",
       "      <td>...</td>\n",
       "      <td>...</td>\n",
       "      <td>...</td>\n",
       "      <td>...</td>\n",
       "      <td>...</td>\n",
       "      <td>...</td>\n",
       "      <td>...</td>\n",
       "      <td>...</td>\n",
       "      <td>...</td>\n",
       "      <td>...</td>\n",
       "      <td>...</td>\n",
       "      <td>...</td>\n",
       "      <td>...</td>\n",
       "      <td>...</td>\n",
       "      <td>...</td>\n",
       "      <td>...</td>\n",
       "      <td>...</td>\n",
       "      <td>...</td>\n",
       "      <td>...</td>\n",
       "      <td>...</td>\n",
       "    </tr>\n",
       "    <tr>\n",
       "      <th>2818</th>\n",
       "      <td>10350</td>\n",
       "      <td>20</td>\n",
       "      <td>100.00</td>\n",
       "      <td>15</td>\n",
       "      <td>2244.40</td>\n",
       "      <td>2004-12-02</td>\n",
       "      <td>shipped</td>\n",
       "      <td>4</td>\n",
       "      <td>12</td>\n",
       "      <td>2004</td>\n",
       "      <td>...</td>\n",
       "      <td>s72_3212</td>\n",
       "      <td>euro shopping channel</td>\n",
       "      <td>(91) 555 94 44</td>\n",
       "      <td>c/ moralzarzal, 86</td>\n",
       "      <td>madrid</td>\n",
       "      <td>28034</td>\n",
       "      <td>spain</td>\n",
       "      <td>freyre</td>\n",
       "      <td>diego</td>\n",
       "      <td>small</td>\n",
       "    </tr>\n",
       "    <tr>\n",
       "      <th>2819</th>\n",
       "      <td>10373</td>\n",
       "      <td>29</td>\n",
       "      <td>100.00</td>\n",
       "      <td>1</td>\n",
       "      <td>3978.51</td>\n",
       "      <td>2005-01-31</td>\n",
       "      <td>shipped</td>\n",
       "      <td>1</td>\n",
       "      <td>1</td>\n",
       "      <td>2005</td>\n",
       "      <td>...</td>\n",
       "      <td>s72_3212</td>\n",
       "      <td>oulu toy supplies, inc.</td>\n",
       "      <td>981-443655</td>\n",
       "      <td>torikatu 38</td>\n",
       "      <td>oulu</td>\n",
       "      <td>90110</td>\n",
       "      <td>finland</td>\n",
       "      <td>koskitalo</td>\n",
       "      <td>pirkko</td>\n",
       "      <td>medium</td>\n",
       "    </tr>\n",
       "    <tr>\n",
       "      <th>2820</th>\n",
       "      <td>10386</td>\n",
       "      <td>43</td>\n",
       "      <td>100.00</td>\n",
       "      <td>4</td>\n",
       "      <td>5417.57</td>\n",
       "      <td>2005-03-01</td>\n",
       "      <td>resolved</td>\n",
       "      <td>1</td>\n",
       "      <td>3</td>\n",
       "      <td>2005</td>\n",
       "      <td>...</td>\n",
       "      <td>s72_3212</td>\n",
       "      <td>euro shopping channel</td>\n",
       "      <td>(91) 555 94 44</td>\n",
       "      <td>c/ moralzarzal, 86</td>\n",
       "      <td>madrid</td>\n",
       "      <td>28034</td>\n",
       "      <td>spain</td>\n",
       "      <td>freyre</td>\n",
       "      <td>diego</td>\n",
       "      <td>medium</td>\n",
       "    </tr>\n",
       "    <tr>\n",
       "      <th>2821</th>\n",
       "      <td>10397</td>\n",
       "      <td>34</td>\n",
       "      <td>62.24</td>\n",
       "      <td>1</td>\n",
       "      <td>2116.16</td>\n",
       "      <td>2005-03-28</td>\n",
       "      <td>shipped</td>\n",
       "      <td>1</td>\n",
       "      <td>3</td>\n",
       "      <td>2005</td>\n",
       "      <td>...</td>\n",
       "      <td>s72_3212</td>\n",
       "      <td>alpha cognac</td>\n",
       "      <td>61.77.6555</td>\n",
       "      <td>1 rue alsace-lorraine</td>\n",
       "      <td>toulouse</td>\n",
       "      <td>31000</td>\n",
       "      <td>france</td>\n",
       "      <td>roulet</td>\n",
       "      <td>annette</td>\n",
       "      <td>small</td>\n",
       "    </tr>\n",
       "    <tr>\n",
       "      <th>2822</th>\n",
       "      <td>10414</td>\n",
       "      <td>47</td>\n",
       "      <td>65.52</td>\n",
       "      <td>9</td>\n",
       "      <td>3079.44</td>\n",
       "      <td>2005-05-06</td>\n",
       "      <td>on hold</td>\n",
       "      <td>2</td>\n",
       "      <td>5</td>\n",
       "      <td>2005</td>\n",
       "      <td>...</td>\n",
       "      <td>s72_3212</td>\n",
       "      <td>gifts4allages.com</td>\n",
       "      <td>6175559555</td>\n",
       "      <td>8616 spinnaker dr.</td>\n",
       "      <td>boston</td>\n",
       "      <td>51003</td>\n",
       "      <td>usa</td>\n",
       "      <td>yoshido</td>\n",
       "      <td>juri</td>\n",
       "      <td>medium</td>\n",
       "    </tr>\n",
       "  </tbody>\n",
       "</table>\n",
       "<p>2747 rows × 22 columns</p>\n",
       "</div>"
      ],
      "text/plain": [
       "      ORDERNUMBER  QUANTITYORDERED  PRICEEACH  ORDERLINENUMBER    SALES  \\\n",
       "0           10107               30      95.70                2  2871.00   \n",
       "1           10121               34      81.35                5  2765.90   \n",
       "2           10134               41      94.74                2  3884.34   \n",
       "3           10145               45      83.26                6  3746.70   \n",
       "5           10168               36      96.66                1  3479.76   \n",
       "...           ...              ...        ...              ...      ...   \n",
       "2818        10350               20     100.00               15  2244.40   \n",
       "2819        10373               29     100.00                1  3978.51   \n",
       "2820        10386               43     100.00                4  5417.57   \n",
       "2821        10397               34      62.24                1  2116.16   \n",
       "2822        10414               47      65.52                9  3079.44   \n",
       "\n",
       "      ORDERDATE    STATUS  QTR_ID  MONTH_ID  YEAR_ID  ... PRODUCTCODE  \\\n",
       "0    2003-02-24   shipped       1         2     2003  ...    s10_1678   \n",
       "1    2003-05-07   shipped       2         5     2003  ...    s10_1678   \n",
       "2    2003-07-01   shipped       3         7     2003  ...    s10_1678   \n",
       "3    2003-08-25   shipped       3         8     2003  ...    s10_1678   \n",
       "5    2003-10-28   shipped       4        10     2003  ...    s10_1678   \n",
       "...         ...       ...     ...       ...      ...  ...         ...   \n",
       "2818 2004-12-02   shipped       4        12     2004  ...    s72_3212   \n",
       "2819 2005-01-31   shipped       1         1     2005  ...    s72_3212   \n",
       "2820 2005-03-01  resolved       1         3     2005  ...    s72_3212   \n",
       "2821 2005-03-28   shipped       1         3     2005  ...    s72_3212   \n",
       "2822 2005-05-06   on hold       2         5     2005  ...    s72_3212   \n",
       "\n",
       "                 CUSTOMERNAME             PHONE  \\\n",
       "0           land of toys inc.        2125557818   \n",
       "1          reims collectables        26.47.1555   \n",
       "2             lyon souveniers  +33 1 46 62 7555   \n",
       "3           toys4grownups.com        6265557265   \n",
       "5        technics stores inc.        6505556809   \n",
       "...                       ...               ...   \n",
       "2818    euro shopping channel    (91) 555 94 44   \n",
       "2819  oulu toy supplies, inc.        981-443655   \n",
       "2820    euro shopping channel    (91) 555 94 44   \n",
       "2821             alpha cognac        61.77.6555   \n",
       "2822        gifts4allages.com        6175559555   \n",
       "\n",
       "                       ADDRESSLINE1        CITY POSTALCODE  COUNTRY  \\\n",
       "0           897 long airport avenue         nyc      10022      usa   \n",
       "1                59 rue de l'abbaye       reims      51100   france   \n",
       "2     27 rue du colonel pierre avia       paris      75508   france   \n",
       "3                78934 hillside dr.    pasadena      90003      usa   \n",
       "5                 9408 furth circle  burlingame      94217      usa   \n",
       "...                             ...         ...        ...      ...   \n",
       "2818             c/ moralzarzal, 86      madrid      28034    spain   \n",
       "2819                    torikatu 38        oulu      90110  finland   \n",
       "2820             c/ moralzarzal, 86      madrid      28034    spain   \n",
       "2821          1 rue alsace-lorraine    toulouse      31000   france   \n",
       "2822             8616 spinnaker dr.      boston      51003      usa   \n",
       "\n",
       "     CONTACTLASTNAME CONTACTFIRSTNAME DEALSIZE  \n",
       "0                 yu             kwai    small  \n",
       "1            henriot             paul    small  \n",
       "2           da cunha           daniel   medium  \n",
       "3              young            julie   medium  \n",
       "5             hirano             juri   medium  \n",
       "...              ...              ...      ...  \n",
       "2818          freyre            diego    small  \n",
       "2819       koskitalo           pirkko   medium  \n",
       "2820          freyre            diego   medium  \n",
       "2821          roulet          annette    small  \n",
       "2822         yoshido             juri   medium  \n",
       "\n",
       "[2747 rows x 22 columns]"
      ]
     },
     "execution_count": 70,
     "metadata": {},
     "output_type": "execute_result"
    }
   ],
   "source": [
    "df1"
   ]
  },
  {
   "cell_type": "markdown",
   "id": "f199d27f",
   "metadata": {},
   "source": [
    "## Renaming column headers to be clean and uniform (e.g., lowercase, no spaces)"
   ]
  },
  {
   "cell_type": "code",
   "execution_count": 71,
   "id": "8f714bfa",
   "metadata": {},
   "outputs": [],
   "source": [
    "df1.columns = [col.strip().lower().replace(\" \", \"_\") for col in df1.columns]"
   ]
  },
  {
   "cell_type": "code",
   "execution_count": 72,
   "id": "90d19833",
   "metadata": {},
   "outputs": [
    {
     "data": {
      "text/plain": [
       "Index(['ordernumber', 'quantityordered', 'priceeach', 'orderlinenumber',\n",
       "       'sales', 'orderdate', 'status', 'qtr_id', 'month_id', 'year_id',\n",
       "       'productline', 'msrp', 'productcode', 'customername', 'phone',\n",
       "       'addressline1', 'city', 'postalcode', 'country', 'contactlastname',\n",
       "       'contactfirstname', 'dealsize'],\n",
       "      dtype='object')"
      ]
     },
     "execution_count": 72,
     "metadata": {},
     "output_type": "execute_result"
    }
   ],
   "source": [
    "df1.columns"
   ]
  },
  {
   "cell_type": "markdown",
   "id": "79862ccb",
   "metadata": {},
   "source": [
    "### Checking and fixing data types (e.g., age should be int, date as datetime)."
   ]
  },
  {
   "cell_type": "code",
   "execution_count": 75,
   "id": "8acda898",
   "metadata": {},
   "outputs": [],
   "source": [
    "int_cols = df1.select_dtypes(include=['int']).columns\n",
    "float_cols = df1.select_dtypes(include=['float']).columns\n",
    "string_cols = df1.select_dtypes(include=['string']).columns\n",
    "datetime_cols = df1.select_dtypes(include=['datetime']).columns"
   ]
  },
  {
   "cell_type": "code",
   "execution_count": 76,
   "id": "39452487",
   "metadata": {},
   "outputs": [
    {
     "name": "stdout",
     "output_type": "stream",
     "text": [
      "int Columns = Index(['ordernumber', 'quantityordered', 'orderlinenumber', 'qtr_id',\n",
      "       'month_id', 'year_id', 'msrp'],\n",
      "      dtype='object')\n",
      "float columns = Index(['priceeach', 'sales'], dtype='object')\n",
      "string columns = Index([], dtype='object')\n",
      "datetime columns = Index(['orderdate'], dtype='object')\n"
     ]
    }
   ],
   "source": [
    "print(f\"int Columns = {int_cols}\\nfloat columns = {float_cols}\\nstring columns = {string_cols}\\ndatetime columns = {datetime_cols}\")"
   ]
  },
  {
   "cell_type": "markdown",
   "id": "11d6d806",
   "metadata": {},
   "source": [
    "## Now we have successfully converted each columns into its original datatype"
   ]
  },
  {
   "cell_type": "code",
   "execution_count": null,
   "id": "10ba06e6",
   "metadata": {},
   "outputs": [],
   "source": []
  }
 ],
 "metadata": {
  "kernelspec": {
   "display_name": "Python 3 (ipykernel)",
   "language": "python",
   "name": "python3"
  },
  "language_info": {
   "codemirror_mode": {
    "name": "ipython",
    "version": 3
   },
   "file_extension": ".py",
   "mimetype": "text/x-python",
   "name": "python",
   "nbconvert_exporter": "python",
   "pygments_lexer": "ipython3",
   "version": "3.9.13"
  }
 },
 "nbformat": 4,
 "nbformat_minor": 5
}
